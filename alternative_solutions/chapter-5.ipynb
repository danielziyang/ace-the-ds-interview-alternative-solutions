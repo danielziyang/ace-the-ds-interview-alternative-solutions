{
 "cells": [
  {
   "cell_type": "markdown",
   "metadata": {},
   "source": [
    "# Chapter 5 Alternative Solutions\n",
    "\n",
    "Some alternative solutions or simulated answers I've written for Ace the Data Science Interview Chapter 5. Additionally, I intend to expand on some of the original solutions within the book whenever I feel the details are too cryptic or mystical.\n"
   ]
  },
  {
   "cell_type": "markdown",
   "metadata": {},
   "source": [
    "## 5.3\n",
    "\n",
    "I actually prefer the approach in the book, but we all got to start somewhere. \n",
    "\n",
    "Let $X,Y,Z$ represent a dice toss value on the first, second and third roll respectively. We are looking to find the probability value to $P(Z>Y>X)$. We can express this probability statement in terms of **conditional** probabilities, i.e. \n",
    "\\begin{align*}\n",
    "P(Z>Y>X) &= P(Z>Y|Y=y, X=x) \\cdot P(Y>X|X=x) \\cdot P(X=x)\\\\\n",
    "&= P(Z>Y)\\cdot P(Y > X) \\cdot P(X = x) \n",
    "\\end{align*}\n",
    "\n",
    "The second line comes from the fact that these rolls are all independent. So, a nonclever but straightforward solution would be to just consider all cases of $X,Y,Z$ values that satisfy the requisite inequality. Here, $X$ can take any dice roll with probability $1/6$, but you would not be able to find any sequences of strictly increasing order when $X=5$ or $X=6$. When $X=4$, the only case available is $Y=5$ and $Z=6$, so the probability of a valid sequence is $(1/6)\\cdot(1/6)\\cdot(1/6) = (1/6)^3 = (1/6)^3(1)$ for $X=5$.\n",
    "\n",
    "When $X=3$, there are more available combinations to consider: when $Y=4$, then $Z=5$ or $Z=6$ and when $Y=5$, then $Z=6$. The probability therefore is $(1/6)\\cdot(1/6)\\cdot(2/6) + (1/6)\\cdot(1/6)\\cdot(1/6) = (1/6)^3(1+2)$ for $X=4$. Note that, just like how we broke down the cases of values of $X$, we do the same for $Y$.\n",
    "\n",
    "There is a reason why I represented the probability in the above fashion; you should observe that there is a pattern to all of this. Namely, as you decrement the value of $X$ the number of different sequences that work increases as like a partial sum series. And so we find the total probability to be:\n",
    "\n",
    "\\begin{align*}\n",
    "P(\\text{Strictly increasing sequences}) &= (1/6)^3((1) + (1+2) + (1+2+3) + (1+2+3+4))\\\\\n",
    "&= 20/6^3\\\\\n",
    "&= 0.09\n",
    "\\end{align*}\n",
    "\n",
    "Which matches the answer in the text."
   ]
  },
  {
   "cell_type": "markdown",
   "metadata": {},
   "source": [
    "## 5.4.\n",
    "\n",
    "The way I approached the problem was this: the only possible way to get a 2nd card that is exactly double the value of the first card is if you first draw a card that is in the range of $[1,50]$ and then draw the corresponding card. So the probability of this happening is $50/100 \\cdot 1/99 = 1/2 \\cdot 1/99$. However, it's entirely allowable to draw a first card that is exactly double the value of the 2nd card; logically speaking, this has the exact same probability of occurring as the prior scenario (If you intuitively agree but are unable to explicitly see why, consider the probability of the first draw being all of the cards that is divisible by 2 (i.e. all the even values in [1,100]), and the 2nd card to be the probability of drawing the card needed). Hence, the overall probability is \n",
    "\\begin{align*}\n",
    "(50/100)\\cdot (1/99) + (50/100) \\cdot (1/99) &= 2 \\cdot(1/2) \\cdot (1/99)\\\\\n",
    "&= 1/99\n",
    "\\end{align*}\n",
    "Which is the same answer. \n"
   ]
  },
  {
   "cell_type": "markdown",
   "metadata": {},
   "source": [
    "## 5.8\n",
    "\n",
    "There is a trick (popularized by Feller I think) that I basically always use when it comes to these kinds of \"Alice and Bob take turns tossing a coin or rolling a dice\" problems. Solution here is similar to the solution in the book, but it's not quite the same.\n",
    "\n",
    "Let $P(A) = p$ represent the probability that Alice wins and $P(B)$ be the probability that Bob wins. The trick is realizing that the probability of Bob winning is the exact same as Alice, given Alice loses on her first toss (to see why, if we condition/know Alice loses on her first toss, this is the same as letting Bob go first in these games). And so $P(B) = (1-p)\\cdot p$. Now that we've established that, all we need to do is solve for $p$ (in terms of itself since we don't know the actual probability value). How? Well, either Alice or Bob must win, so $P(A)+P(B)=1$. With some algebra:\n",
    "\n",
    "\\begin{align*}\n",
    "P(A)+P(B) &= 1\\\\\n",
    "p + (1-p)\\cdot p &= 1\\\\\n",
    "2p - p^2 &= 1 \\\\\n",
    "p(2-p) &= 1\\\\\n",
    "p &= \\frac{1}{2-p}\\\\\n",
    "P(A) &= \\frac{1}{2-p}\n",
    "\\end{align*}\n",
    "\n",
    "There is a sleight of hand here where $p$ on the RHS suddenly refers to the probability of getting a heads, not the probability of Alice getting a heads. I do not pretend to know how to repair this and can only say that it works (e.g. plug in $p=0.5$ on the RHS and you will see the probability of Alice winning to be $2/3$ which is correct).\n",
    "\n",
    "Other questions that I've seen that can employ this trick are e.g. \"What is the probability of Alice winning if the game is tossing a fair coin\" or \"Given that Bob wins, what is the probability Bob wins on his third toss\". \n"
   ]
  },
  {
   "cell_type": "markdown",
   "metadata": {},
   "source": [
    "## 5.17\n",
    "\n",
    "De Morgan's Law works and is (IMO) simpler to arrive at a solution with. Let $P(SC)$ represent the probability of drawing a card with the same color and $P(SN)$ be the probability of drawing a card with the same number. Then \n",
    "\n",
    "\\begin{align*}\n",
    "P(SC^c \\cap SN^c) &= P(SC \\cup SN)^c\\\\\n",
    "&= 1 - P(SC \\cup SN)\\\\\n",
    "&= 1 - [P(SC) + P(SN) - P(SC \\cap SN)]\\\\\n",
    "&= 1 - [(4/49) + (9/49) - 0] = 36/49\n",
    "\\end{align*}"
   ]
  },
  {
   "cell_type": "code",
   "execution_count": null,
   "metadata": {},
   "outputs": [],
   "source": []
  }
 ],
 "metadata": {
  "kernelspec": {
   "display_name": "Python 3.10.5 64-bit ('3.10.5')",
   "language": "python",
   "name": "python3"
  },
  "language_info": {
   "name": "python",
   "version": "3.10.5"
  },
  "orig_nbformat": 4,
  "vscode": {
   "interpreter": {
    "hash": "57320c9db8da1be3aa1d99976a5d14f943a86a26845fce1064c7eeb40444d1fd"
   }
  }
 },
 "nbformat": 4,
 "nbformat_minor": 2
}
